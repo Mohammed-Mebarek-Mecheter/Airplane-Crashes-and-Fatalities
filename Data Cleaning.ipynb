{
 "cells": [
  {
   "cell_type": "code",
   "execution_count": 1,
   "id": "aabb9176-1d95-4710-83d8-063c1d720c98",
   "metadata": {
    "tags": [],
    "ExecuteTime": {
     "end_time": "2024-01-05T19:59:08.916784900Z",
     "start_time": "2024-01-05T19:59:08.809842700Z"
    }
   },
   "outputs": [],
   "source": [
    "# Import Libraries\n",
    "import pandas as pd"
   ]
  },
  {
   "cell_type": "code",
   "execution_count": 2,
   "id": "c502695f-d101-4361-b47e-d449b95a2db6",
   "metadata": {
    "tags": [],
    "ExecuteTime": {
     "end_time": "2024-01-05T19:59:10.951237300Z",
     "start_time": "2024-01-05T19:59:08.834828600Z"
    }
   },
   "outputs": [],
   "source": [
    "# Load the Dataset\n",
    "df = pd.read_csv(\"acf.csv\", encoding='latin1')"
   ]
  },
  {
   "cell_type": "code",
   "execution_count": 3,
   "id": "ec817733-6ef4-4d04-8651-26a72b26da21",
   "metadata": {
    "tags": [],
    "ExecuteTime": {
     "end_time": "2024-01-05T19:59:11.020001300Z",
     "start_time": "2024-01-05T19:59:10.255625900Z"
    }
   },
   "outputs": [
    {
     "data": {
      "text/plain": "        Date   Time                            Location  \\\n0  9/17/1908  17:18                 Fort Myer, Virginia   \n1   9/7/1909    NaN             Juvisy-sur-Orge, France   \n2  7/12/1912   6:30           Atlantic City, New Jersey   \n3   8/6/1913    NaN  Victoria, British Columbia, Canada   \n4   9/9/1913  18:30                  Over the North Sea   \n\n                 Operator Flight #          Route                 AC Type  \\\n0    Military - U.S. Army      NaN  Demonstration        Wright Flyer III   \n1                     NaN      NaN       Air show          Wright Byplane   \n2    Military - U.S. Navy      NaN    Test flight               Dirigible   \n3                 Private      NaN            NaN        Curtiss seaplane   \n4  Military - German Navy      NaN            NaN  Zeppelin L-1 (airship)   \n\n  Registration cn/ln  Aboard  Aboard Passangers  Aboard Crew  Fatalities  \\\n0          NaN     1     2.0                1.0          1.0         1.0   \n1          SC1   NaN     1.0                0.0          1.0         1.0   \n2          NaN   NaN     5.0                0.0          5.0         5.0   \n3          NaN   NaN     1.0                0.0          1.0         1.0   \n4          NaN   NaN    20.0                NaN          NaN        14.0   \n\n   Fatalities Passangers  Fatalities Crew  Ground  \\\n0                    1.0              0.0     0.0   \n1                    0.0              0.0     0.0   \n2                    0.0              5.0     0.0   \n3                    0.0              1.0     0.0   \n4                    NaN              NaN     0.0   \n\n                                             Summary  \n0  During a demonstration flight, a U.S. Army fly...  \n1  Eugene Lefebvre was the first pilot to ever be...  \n2  First U.S. dirigible Akron exploded just offsh...  \n3  The first fatal airplane accident in Canada oc...  \n4  The airship flew into a thunderstorm and encou...  ",
      "text/html": "<div>\n<style scoped>\n    .dataframe tbody tr th:only-of-type {\n        vertical-align: middle;\n    }\n\n    .dataframe tbody tr th {\n        vertical-align: top;\n    }\n\n    .dataframe thead th {\n        text-align: right;\n    }\n</style>\n<table border=\"1\" class=\"dataframe\">\n  <thead>\n    <tr style=\"text-align: right;\">\n      <th></th>\n      <th>Date</th>\n      <th>Time</th>\n      <th>Location</th>\n      <th>Operator</th>\n      <th>Flight #</th>\n      <th>Route</th>\n      <th>AC Type</th>\n      <th>Registration</th>\n      <th>cn/ln</th>\n      <th>Aboard</th>\n      <th>Aboard Passangers</th>\n      <th>Aboard Crew</th>\n      <th>Fatalities</th>\n      <th>Fatalities Passangers</th>\n      <th>Fatalities Crew</th>\n      <th>Ground</th>\n      <th>Summary</th>\n    </tr>\n  </thead>\n  <tbody>\n    <tr>\n      <th>0</th>\n      <td>9/17/1908</td>\n      <td>17:18</td>\n      <td>Fort Myer, Virginia</td>\n      <td>Military - U.S. Army</td>\n      <td>NaN</td>\n      <td>Demonstration</td>\n      <td>Wright Flyer III</td>\n      <td>NaN</td>\n      <td>1</td>\n      <td>2.0</td>\n      <td>1.0</td>\n      <td>1.0</td>\n      <td>1.0</td>\n      <td>1.0</td>\n      <td>0.0</td>\n      <td>0.0</td>\n      <td>During a demonstration flight, a U.S. Army fly...</td>\n    </tr>\n    <tr>\n      <th>1</th>\n      <td>9/7/1909</td>\n      <td>NaN</td>\n      <td>Juvisy-sur-Orge, France</td>\n      <td>NaN</td>\n      <td>NaN</td>\n      <td>Air show</td>\n      <td>Wright Byplane</td>\n      <td>SC1</td>\n      <td>NaN</td>\n      <td>1.0</td>\n      <td>0.0</td>\n      <td>1.0</td>\n      <td>1.0</td>\n      <td>0.0</td>\n      <td>0.0</td>\n      <td>0.0</td>\n      <td>Eugene Lefebvre was the first pilot to ever be...</td>\n    </tr>\n    <tr>\n      <th>2</th>\n      <td>7/12/1912</td>\n      <td>6:30</td>\n      <td>Atlantic City, New Jersey</td>\n      <td>Military - U.S. Navy</td>\n      <td>NaN</td>\n      <td>Test flight</td>\n      <td>Dirigible</td>\n      <td>NaN</td>\n      <td>NaN</td>\n      <td>5.0</td>\n      <td>0.0</td>\n      <td>5.0</td>\n      <td>5.0</td>\n      <td>0.0</td>\n      <td>5.0</td>\n      <td>0.0</td>\n      <td>First U.S. dirigible Akron exploded just offsh...</td>\n    </tr>\n    <tr>\n      <th>3</th>\n      <td>8/6/1913</td>\n      <td>NaN</td>\n      <td>Victoria, British Columbia, Canada</td>\n      <td>Private</td>\n      <td>NaN</td>\n      <td>NaN</td>\n      <td>Curtiss seaplane</td>\n      <td>NaN</td>\n      <td>NaN</td>\n      <td>1.0</td>\n      <td>0.0</td>\n      <td>1.0</td>\n      <td>1.0</td>\n      <td>0.0</td>\n      <td>1.0</td>\n      <td>0.0</td>\n      <td>The first fatal airplane accident in Canada oc...</td>\n    </tr>\n    <tr>\n      <th>4</th>\n      <td>9/9/1913</td>\n      <td>18:30</td>\n      <td>Over the North Sea</td>\n      <td>Military - German Navy</td>\n      <td>NaN</td>\n      <td>NaN</td>\n      <td>Zeppelin L-1 (airship)</td>\n      <td>NaN</td>\n      <td>NaN</td>\n      <td>20.0</td>\n      <td>NaN</td>\n      <td>NaN</td>\n      <td>14.0</td>\n      <td>NaN</td>\n      <td>NaN</td>\n      <td>0.0</td>\n      <td>The airship flew into a thunderstorm and encou...</td>\n    </tr>\n  </tbody>\n</table>\n</div>"
     },
     "execution_count": 3,
     "metadata": {},
     "output_type": "execute_result"
    }
   ],
   "source": [
    "df.head()"
   ]
  },
  {
   "cell_type": "code",
   "execution_count": 4,
   "id": "7bd85461-db4d-4caf-8d6d-d912f4da5fea",
   "metadata": {
    "tags": [],
    "ExecuteTime": {
     "end_time": "2024-01-05T19:59:11.021999800Z",
     "start_time": "2024-01-05T19:59:10.935236Z"
    }
   },
   "outputs": [],
   "source": [
    "# Drop Columns\n",
    "columns_to_drop = ['Time', 'Route', 'cn/ln', 'Aboard', 'Aboard Passangers', 'Aboard Crew', 'Ground', 'Summary']\n",
    "df_cleaned = df.drop(columns=columns_to_drop)"
   ]
  },
  {
   "cell_type": "code",
   "execution_count": 5,
   "id": "c826391c-5d2e-4b95-8884-95b89a3b0c63",
   "metadata": {
    "tags": [],
    "ExecuteTime": {
     "end_time": "2024-01-05T19:59:11.056981100Z",
     "start_time": "2024-01-05T19:59:10.936293800Z"
    }
   },
   "outputs": [
    {
     "data": {
      "text/plain": "        Date                            Location                Operator  \\\n0  9/17/1908                 Fort Myer, Virginia    Military - U.S. Army   \n1   9/7/1909             Juvisy-sur-Orge, France                     NaN   \n2  7/12/1912           Atlantic City, New Jersey    Military - U.S. Navy   \n3   8/6/1913  Victoria, British Columbia, Canada                 Private   \n4   9/9/1913                  Over the North Sea  Military - German Navy   \n\n  Flight #                 AC Type Registration  Fatalities  \\\n0      NaN        Wright Flyer III          NaN         1.0   \n1      NaN          Wright Byplane          SC1         1.0   \n2      NaN               Dirigible          NaN         5.0   \n3      NaN        Curtiss seaplane          NaN         1.0   \n4      NaN  Zeppelin L-1 (airship)          NaN        14.0   \n\n   Fatalities Passangers  Fatalities Crew  \n0                    1.0              0.0  \n1                    0.0              0.0  \n2                    0.0              5.0  \n3                    0.0              1.0  \n4                    NaN              NaN  ",
      "text/html": "<div>\n<style scoped>\n    .dataframe tbody tr th:only-of-type {\n        vertical-align: middle;\n    }\n\n    .dataframe tbody tr th {\n        vertical-align: top;\n    }\n\n    .dataframe thead th {\n        text-align: right;\n    }\n</style>\n<table border=\"1\" class=\"dataframe\">\n  <thead>\n    <tr style=\"text-align: right;\">\n      <th></th>\n      <th>Date</th>\n      <th>Location</th>\n      <th>Operator</th>\n      <th>Flight #</th>\n      <th>AC Type</th>\n      <th>Registration</th>\n      <th>Fatalities</th>\n      <th>Fatalities Passangers</th>\n      <th>Fatalities Crew</th>\n    </tr>\n  </thead>\n  <tbody>\n    <tr>\n      <th>0</th>\n      <td>9/17/1908</td>\n      <td>Fort Myer, Virginia</td>\n      <td>Military - U.S. Army</td>\n      <td>NaN</td>\n      <td>Wright Flyer III</td>\n      <td>NaN</td>\n      <td>1.0</td>\n      <td>1.0</td>\n      <td>0.0</td>\n    </tr>\n    <tr>\n      <th>1</th>\n      <td>9/7/1909</td>\n      <td>Juvisy-sur-Orge, France</td>\n      <td>NaN</td>\n      <td>NaN</td>\n      <td>Wright Byplane</td>\n      <td>SC1</td>\n      <td>1.0</td>\n      <td>0.0</td>\n      <td>0.0</td>\n    </tr>\n    <tr>\n      <th>2</th>\n      <td>7/12/1912</td>\n      <td>Atlantic City, New Jersey</td>\n      <td>Military - U.S. Navy</td>\n      <td>NaN</td>\n      <td>Dirigible</td>\n      <td>NaN</td>\n      <td>5.0</td>\n      <td>0.0</td>\n      <td>5.0</td>\n    </tr>\n    <tr>\n      <th>3</th>\n      <td>8/6/1913</td>\n      <td>Victoria, British Columbia, Canada</td>\n      <td>Private</td>\n      <td>NaN</td>\n      <td>Curtiss seaplane</td>\n      <td>NaN</td>\n      <td>1.0</td>\n      <td>0.0</td>\n      <td>1.0</td>\n    </tr>\n    <tr>\n      <th>4</th>\n      <td>9/9/1913</td>\n      <td>Over the North Sea</td>\n      <td>Military - German Navy</td>\n      <td>NaN</td>\n      <td>Zeppelin L-1 (airship)</td>\n      <td>NaN</td>\n      <td>14.0</td>\n      <td>NaN</td>\n      <td>NaN</td>\n    </tr>\n  </tbody>\n</table>\n</div>"
     },
     "execution_count": 5,
     "metadata": {},
     "output_type": "execute_result"
    }
   ],
   "source": [
    "df_cleaned.head()"
   ]
  },
  {
   "cell_type": "code",
   "execution_count": 6,
   "id": "c07fc602-d6d8-48ca-bba0-f7a14dd24949",
   "metadata": {
    "tags": [],
    "ExecuteTime": {
     "end_time": "2024-01-05T19:59:11.086814100Z",
     "start_time": "2024-01-05T19:59:10.936293800Z"
    }
   },
   "outputs": [
    {
     "data": {
      "text/plain": "(4998, 9)"
     },
     "execution_count": 6,
     "metadata": {},
     "output_type": "execute_result"
    }
   ],
   "source": [
    "df_cleaned.shape"
   ]
  },
  {
   "cell_type": "code",
   "execution_count": 7,
   "id": "ed20c20d-9991-485f-b5cd-04eb80507669",
   "metadata": {
    "tags": [],
    "ExecuteTime": {
     "end_time": "2024-01-05T19:59:11.109043200Z",
     "start_time": "2024-01-05T19:59:10.941647800Z"
    }
   },
   "outputs": [],
   "source": [
    "# Handling Missing Values\n",
    "# Drop rows with missing values\n",
    "df_cleaned = df_cleaned.dropna()"
   ]
  },
  {
   "cell_type": "code",
   "execution_count": 8,
   "id": "a1e44573-c517-4460-8257-a92559cf6b40",
   "metadata": {
    "tags": [],
    "ExecuteTime": {
     "end_time": "2024-01-05T19:59:11.136028400Z",
     "start_time": "2024-01-05T19:59:11.010007500Z"
    }
   },
   "outputs": [
    {
     "data": {
      "text/plain": "(1312, 9)"
     },
     "execution_count": 8,
     "metadata": {},
     "output_type": "execute_result"
    }
   ],
   "source": [
    "df_cleaned.shape"
   ]
  },
  {
   "cell_type": "code",
   "execution_count": 9,
   "id": "63196305-8109-4f09-a4bb-3ee81430b98b",
   "metadata": {
    "tags": [],
    "ExecuteTime": {
     "end_time": "2024-01-05T19:59:11.362728800Z",
     "start_time": "2024-01-05T19:59:11.047984500Z"
    }
   },
   "outputs": [
    {
     "data": {
      "text/plain": "Date                     0\nLocation                 0\nOperator                 0\nFlight #                 0\nAC Type                  0\nRegistration             0\nFatalities               0\nFatalities Passangers    0\nFatalities Crew          0\ndtype: int64"
     },
     "execution_count": 9,
     "metadata": {},
     "output_type": "execute_result"
    }
   ],
   "source": [
    "df_cleaned.isnull().sum()"
   ]
  },
  {
   "cell_type": "code",
   "execution_count": 10,
   "id": "7645eea4-ecc6-4d59-bfee-37408f5a51d5",
   "metadata": {
    "tags": [],
    "ExecuteTime": {
     "end_time": "2024-01-05T19:59:11.754160Z",
     "start_time": "2024-01-05T19:59:11.103803700Z"
    }
   },
   "outputs": [],
   "source": [
    "# Save the Cleaned Dataset\n",
    "cleaned_file_path = \"cleaned_dataset.csv\"\n",
    "df_cleaned.to_csv(cleaned_file_path, index=False)"
   ]
  }
 ],
 "metadata": {
  "kernelspec": {
   "display_name": "Python 3 (ipykernel)",
   "language": "python",
   "name": "python3"
  },
  "language_info": {
   "codemirror_mode": {
    "name": "ipython",
    "version": 3
   },
   "file_extension": ".py",
   "mimetype": "text/x-python",
   "name": "python",
   "nbconvert_exporter": "python",
   "pygments_lexer": "ipython3",
   "version": "3.11.5"
  }
 },
 "nbformat": 4,
 "nbformat_minor": 5
}
