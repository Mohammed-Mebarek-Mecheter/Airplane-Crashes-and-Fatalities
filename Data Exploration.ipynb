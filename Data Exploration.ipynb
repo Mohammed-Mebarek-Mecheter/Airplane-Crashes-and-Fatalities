{
 "cells": [
  {
   "cell_type": "code",
   "execution_count": 1,
   "id": "initial_id",
   "metadata": {
    "collapsed": true,
    "jupyter": {
     "outputs_hidden": true
    },
    "ExecuteTime": {
     "end_time": "2024-01-05T19:55:12.271624100Z",
     "start_time": "2024-01-05T19:55:12.238187500Z"
    }
   },
   "outputs": [],
   "source": [
    "# Import Libraries\n",
    "import pandas as pd"
   ]
  },
  {
   "cell_type": "code",
   "execution_count": 2,
   "id": "757441896d27ec6f",
   "metadata": {
    "collapsed": false,
    "ExecuteTime": {
     "end_time": "2024-01-05T19:55:12.533757700Z",
     "start_time": "2024-01-05T19:55:12.253634800Z"
    }
   },
   "outputs": [],
   "source": [
    "# Load the Dataset\n",
    "df = pd.read_csv(\"acf.csv\", encoding='latin1')"
   ]
  },
  {
   "cell_type": "code",
   "outputs": [
    {
     "data": {
      "text/plain": "        Date   Time                            Location  \\\n0  9/17/1908  17:18                 Fort Myer, Virginia   \n1   9/7/1909    NaN             Juvisy-sur-Orge, France   \n2  7/12/1912   6:30           Atlantic City, New Jersey   \n3   8/6/1913    NaN  Victoria, British Columbia, Canada   \n4   9/9/1913  18:30                  Over the North Sea   \n\n                 Operator Flight #          Route                 AC Type  \\\n0    Military - U.S. Army      NaN  Demonstration        Wright Flyer III   \n1                     NaN      NaN       Air show          Wright Byplane   \n2    Military - U.S. Navy      NaN    Test flight               Dirigible   \n3                 Private      NaN            NaN        Curtiss seaplane   \n4  Military - German Navy      NaN            NaN  Zeppelin L-1 (airship)   \n\n  Registration cn/ln  Aboard  Aboard Passangers  Aboard Crew  Fatalities  \\\n0          NaN     1     2.0                1.0          1.0         1.0   \n1          SC1   NaN     1.0                0.0          1.0         1.0   \n2          NaN   NaN     5.0                0.0          5.0         5.0   \n3          NaN   NaN     1.0                0.0          1.0         1.0   \n4          NaN   NaN    20.0                NaN          NaN        14.0   \n\n   Fatalities Passangers  Fatalities Crew  Ground  \\\n0                    1.0              0.0     0.0   \n1                    0.0              0.0     0.0   \n2                    0.0              5.0     0.0   \n3                    0.0              1.0     0.0   \n4                    NaN              NaN     0.0   \n\n                                             Summary  \n0  During a demonstration flight, a U.S. Army fly...  \n1  Eugene Lefebvre was the first pilot to ever be...  \n2  First U.S. dirigible Akron exploded just offsh...  \n3  The first fatal airplane accident in Canada oc...  \n4  The airship flew into a thunderstorm and encou...  ",
      "text/html": "<div>\n<style scoped>\n    .dataframe tbody tr th:only-of-type {\n        vertical-align: middle;\n    }\n\n    .dataframe tbody tr th {\n        vertical-align: top;\n    }\n\n    .dataframe thead th {\n        text-align: right;\n    }\n</style>\n<table border=\"1\" class=\"dataframe\">\n  <thead>\n    <tr style=\"text-align: right;\">\n      <th></th>\n      <th>Date</th>\n      <th>Time</th>\n      <th>Location</th>\n      <th>Operator</th>\n      <th>Flight #</th>\n      <th>Route</th>\n      <th>AC Type</th>\n      <th>Registration</th>\n      <th>cn/ln</th>\n      <th>Aboard</th>\n      <th>Aboard Passangers</th>\n      <th>Aboard Crew</th>\n      <th>Fatalities</th>\n      <th>Fatalities Passangers</th>\n      <th>Fatalities Crew</th>\n      <th>Ground</th>\n      <th>Summary</th>\n    </tr>\n  </thead>\n  <tbody>\n    <tr>\n      <th>0</th>\n      <td>9/17/1908</td>\n      <td>17:18</td>\n      <td>Fort Myer, Virginia</td>\n      <td>Military - U.S. Army</td>\n      <td>NaN</td>\n      <td>Demonstration</td>\n      <td>Wright Flyer III</td>\n      <td>NaN</td>\n      <td>1</td>\n      <td>2.0</td>\n      <td>1.0</td>\n      <td>1.0</td>\n      <td>1.0</td>\n      <td>1.0</td>\n      <td>0.0</td>\n      <td>0.0</td>\n      <td>During a demonstration flight, a U.S. Army fly...</td>\n    </tr>\n    <tr>\n      <th>1</th>\n      <td>9/7/1909</td>\n      <td>NaN</td>\n      <td>Juvisy-sur-Orge, France</td>\n      <td>NaN</td>\n      <td>NaN</td>\n      <td>Air show</td>\n      <td>Wright Byplane</td>\n      <td>SC1</td>\n      <td>NaN</td>\n      <td>1.0</td>\n      <td>0.0</td>\n      <td>1.0</td>\n      <td>1.0</td>\n      <td>0.0</td>\n      <td>0.0</td>\n      <td>0.0</td>\n      <td>Eugene Lefebvre was the first pilot to ever be...</td>\n    </tr>\n    <tr>\n      <th>2</th>\n      <td>7/12/1912</td>\n      <td>6:30</td>\n      <td>Atlantic City, New Jersey</td>\n      <td>Military - U.S. Navy</td>\n      <td>NaN</td>\n      <td>Test flight</td>\n      <td>Dirigible</td>\n      <td>NaN</td>\n      <td>NaN</td>\n      <td>5.0</td>\n      <td>0.0</td>\n      <td>5.0</td>\n      <td>5.0</td>\n      <td>0.0</td>\n      <td>5.0</td>\n      <td>0.0</td>\n      <td>First U.S. dirigible Akron exploded just offsh...</td>\n    </tr>\n    <tr>\n      <th>3</th>\n      <td>8/6/1913</td>\n      <td>NaN</td>\n      <td>Victoria, British Columbia, Canada</td>\n      <td>Private</td>\n      <td>NaN</td>\n      <td>NaN</td>\n      <td>Curtiss seaplane</td>\n      <td>NaN</td>\n      <td>NaN</td>\n      <td>1.0</td>\n      <td>0.0</td>\n      <td>1.0</td>\n      <td>1.0</td>\n      <td>0.0</td>\n      <td>1.0</td>\n      <td>0.0</td>\n      <td>The first fatal airplane accident in Canada oc...</td>\n    </tr>\n    <tr>\n      <th>4</th>\n      <td>9/9/1913</td>\n      <td>18:30</td>\n      <td>Over the North Sea</td>\n      <td>Military - German Navy</td>\n      <td>NaN</td>\n      <td>NaN</td>\n      <td>Zeppelin L-1 (airship)</td>\n      <td>NaN</td>\n      <td>NaN</td>\n      <td>20.0</td>\n      <td>NaN</td>\n      <td>NaN</td>\n      <td>14.0</td>\n      <td>NaN</td>\n      <td>NaN</td>\n      <td>0.0</td>\n      <td>The airship flew into a thunderstorm and encou...</td>\n    </tr>\n  </tbody>\n</table>\n</div>"
     },
     "execution_count": 3,
     "metadata": {},
     "output_type": "execute_result"
    }
   ],
   "source": [
    "df.head()"
   ],
   "metadata": {
    "collapsed": false,
    "ExecuteTime": {
     "end_time": "2024-01-05T19:55:12.620653700Z",
     "start_time": "2024-01-05T19:55:12.510769900Z"
    }
   },
   "id": "838626b02e1b036e",
   "execution_count": 3
  },
  {
   "cell_type": "code",
   "outputs": [
    {
     "data": {
      "text/plain": "(4998, 17)"
     },
     "execution_count": 8,
     "metadata": {},
     "output_type": "execute_result"
    }
   ],
   "source": [
    "df.shape"
   ],
   "metadata": {
    "collapsed": false,
    "ExecuteTime": {
     "end_time": "2024-01-05T19:56:19.074594900Z",
     "start_time": "2024-01-05T19:56:19.005576900Z"
    }
   },
   "id": "c498046c32a51e13",
   "execution_count": 8
  },
  {
   "cell_type": "code",
   "execution_count": 4,
   "id": "a892c2960dcb14e2",
   "metadata": {
    "collapsed": false,
    "ExecuteTime": {
     "end_time": "2024-01-05T19:55:12.874712900Z",
     "start_time": "2024-01-05T19:55:12.617657500Z"
    }
   },
   "outputs": [
    {
     "name": "stdout",
     "output_type": "stream",
     "text": [
      "<class 'pandas.core.frame.DataFrame'>\n",
      "RangeIndex: 4998 entries, 0 to 4997\n",
      "Data columns (total 17 columns):\n",
      " #   Column                 Non-Null Count  Dtype  \n",
      "---  ------                 --------------  -----  \n",
      " 0   Date                   4998 non-null   object \n",
      " 1   Time                   3486 non-null   object \n",
      " 2   Location               4994 non-null   object \n",
      " 3   Operator               4988 non-null   object \n",
      " 4   Flight #               1329 non-null   object \n",
      " 5   Route                  4221 non-null   object \n",
      " 6   AC Type                4983 non-null   object \n",
      " 7   Registration           4724 non-null   object \n",
      " 8   cn/ln                  4330 non-null   object \n",
      " 9   Aboard                 4980 non-null   float64\n",
      " 10  Aboard Passangers      4769 non-null   float64\n",
      " 11  Aboard Crew            4772 non-null   float64\n",
      " 12  Fatalities             4990 non-null   float64\n",
      " 13  Fatalities Passangers  4756 non-null   float64\n",
      " 14  Fatalities Crew        4757 non-null   float64\n",
      " 15  Ground                 4956 non-null   float64\n",
      " 16  Summary                4934 non-null   object \n",
      "dtypes: float64(7), object(10)\n",
      "memory usage: 663.9+ KB\n"
     ]
    }
   ],
   "source": [
    "# Display basic information about the dataset\n",
    "df.info()"
   ]
  },
  {
   "cell_type": "code",
   "execution_count": 5,
   "id": "426811b84438196a",
   "metadata": {
    "collapsed": false,
    "ExecuteTime": {
     "end_time": "2024-01-05T19:55:13.213799600Z",
     "start_time": "2024-01-05T19:55:12.719977500Z"
    }
   },
   "outputs": [
    {
     "data": {
      "text/plain": "            Aboard  Aboard Passangers  Aboard Crew   Fatalities  \\\ncount  4980.000000        4769.000000  4772.000000  4990.000000   \nmean     31.195984          27.009017     4.479254    22.373547   \nstd      45.534788          44.111609     3.483859    35.061741   \nmin       0.000000           0.000000     0.000000     0.000000   \n25%       7.000000           3.000000     2.000000     4.000000   \n50%      16.000000          12.000000     4.000000    11.000000   \n75%      35.000000          30.000000     6.000000    25.000000   \nmax     644.000000         614.000000    61.000000   583.000000   \n\n       Fatalities Passangers  Fatalities Crew       Ground  \ncount            4756.000000      4757.000000  4956.000000  \nmean               19.053827         3.578516     1.719128  \nstd                34.146127         3.167922    55.540273  \nmin                 0.000000         0.000000     0.000000  \n25%                 1.000000         2.000000     0.000000  \n50%                 8.000000         3.000000     0.000000  \n75%                21.000000         5.000000     0.000000  \nmax               560.000000        46.000000  2750.000000  ",
      "text/html": "<div>\n<style scoped>\n    .dataframe tbody tr th:only-of-type {\n        vertical-align: middle;\n    }\n\n    .dataframe tbody tr th {\n        vertical-align: top;\n    }\n\n    .dataframe thead th {\n        text-align: right;\n    }\n</style>\n<table border=\"1\" class=\"dataframe\">\n  <thead>\n    <tr style=\"text-align: right;\">\n      <th></th>\n      <th>Aboard</th>\n      <th>Aboard Passangers</th>\n      <th>Aboard Crew</th>\n      <th>Fatalities</th>\n      <th>Fatalities Passangers</th>\n      <th>Fatalities Crew</th>\n      <th>Ground</th>\n    </tr>\n  </thead>\n  <tbody>\n    <tr>\n      <th>count</th>\n      <td>4980.000000</td>\n      <td>4769.000000</td>\n      <td>4772.000000</td>\n      <td>4990.000000</td>\n      <td>4756.000000</td>\n      <td>4757.000000</td>\n      <td>4956.000000</td>\n    </tr>\n    <tr>\n      <th>mean</th>\n      <td>31.195984</td>\n      <td>27.009017</td>\n      <td>4.479254</td>\n      <td>22.373547</td>\n      <td>19.053827</td>\n      <td>3.578516</td>\n      <td>1.719128</td>\n    </tr>\n    <tr>\n      <th>std</th>\n      <td>45.534788</td>\n      <td>44.111609</td>\n      <td>3.483859</td>\n      <td>35.061741</td>\n      <td>34.146127</td>\n      <td>3.167922</td>\n      <td>55.540273</td>\n    </tr>\n    <tr>\n      <th>min</th>\n      <td>0.000000</td>\n      <td>0.000000</td>\n      <td>0.000000</td>\n      <td>0.000000</td>\n      <td>0.000000</td>\n      <td>0.000000</td>\n      <td>0.000000</td>\n    </tr>\n    <tr>\n      <th>25%</th>\n      <td>7.000000</td>\n      <td>3.000000</td>\n      <td>2.000000</td>\n      <td>4.000000</td>\n      <td>1.000000</td>\n      <td>2.000000</td>\n      <td>0.000000</td>\n    </tr>\n    <tr>\n      <th>50%</th>\n      <td>16.000000</td>\n      <td>12.000000</td>\n      <td>4.000000</td>\n      <td>11.000000</td>\n      <td>8.000000</td>\n      <td>3.000000</td>\n      <td>0.000000</td>\n    </tr>\n    <tr>\n      <th>75%</th>\n      <td>35.000000</td>\n      <td>30.000000</td>\n      <td>6.000000</td>\n      <td>25.000000</td>\n      <td>21.000000</td>\n      <td>5.000000</td>\n      <td>0.000000</td>\n    </tr>\n    <tr>\n      <th>max</th>\n      <td>644.000000</td>\n      <td>614.000000</td>\n      <td>61.000000</td>\n      <td>583.000000</td>\n      <td>560.000000</td>\n      <td>46.000000</td>\n      <td>2750.000000</td>\n    </tr>\n  </tbody>\n</table>\n</div>"
     },
     "execution_count": 5,
     "metadata": {},
     "output_type": "execute_result"
    }
   ],
   "source": [
    "# Display summary statistics\n",
    "df.describe()"
   ]
  },
  {
   "cell_type": "code",
   "execution_count": 7,
   "id": "e77fdfa655b8033e",
   "metadata": {
    "collapsed": false,
    "tags": [],
    "ExecuteTime": {
     "end_time": "2024-01-05T19:55:13.502860Z",
     "start_time": "2024-01-05T19:55:13.072879900Z"
    }
   },
   "outputs": [
    {
     "data": {
      "text/plain": "Date                        0\nTime                     1512\nLocation                    4\nOperator                   10\nFlight #                 3669\nRoute                     777\nAC Type                    15\nRegistration              274\ncn/ln                     668\nAboard                     18\nAboard Passangers         229\nAboard Crew               226\nFatalities                  8\nFatalities Passangers     242\nFatalities Crew           241\nGround                     42\nSummary                    64\ndtype: int64"
     },
     "execution_count": 7,
     "metadata": {},
     "output_type": "execute_result"
    }
   ],
   "source": [
    "# Check for any missing values\n",
    "df.isnull().sum()"
   ]
  }
 ],
 "metadata": {
  "kernelspec": {
   "display_name": "Python 3 (ipykernel)",
   "language": "python",
   "name": "python3"
  },
  "language_info": {
   "codemirror_mode": {
    "name": "ipython",
    "version": 3
   },
   "file_extension": ".py",
   "mimetype": "text/x-python",
   "name": "python",
   "nbconvert_exporter": "python",
   "pygments_lexer": "ipython3",
   "version": "3.11.5"
  }
 },
 "nbformat": 4,
 "nbformat_minor": 5
}
