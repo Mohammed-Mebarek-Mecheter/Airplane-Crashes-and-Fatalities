{
 "cells": [
  {
   "cell_type": "code",
   "execution_count": 1,
   "id": "initial_id",
   "metadata": {
    "collapsed": true,
    "ExecuteTime": {
     "end_time": "2024-01-04T21:59:22.378222Z",
     "start_time": "2024-01-04T21:59:22.266516100Z"
    }
   },
   "outputs": [],
   "source": [
    "# Import Libraries\n",
    "import pandas as pd\n",
    "import numpy as np\n",
    "import matplotlib.pyplot as plt\n",
    "import seaborn as sns"
   ]
  },
  {
   "cell_type": "code",
   "outputs": [],
   "source": [
    "# Load the Dataset\n",
    "df_cleaned = pd.read_csv(\"cleaned_dataset.csv\")"
   ],
   "metadata": {
    "collapsed": false,
    "ExecuteTime": {
     "end_time": "2024-01-04T22:03:14.046832600Z",
     "start_time": "2024-01-04T22:03:13.914226200Z"
    }
   },
   "id": "a138b10cc905374d",
   "execution_count": 5
  },
  {
   "cell_type": "code",
   "outputs": [
    {
     "data": {
      "text/plain": "        Date               Location                           Operator  \\\n0  1/16/1928         Solis, Uruguay                        Aeropostale   \n1  1/19/1930  Oceanside, California                    Maddux Airlines   \n2  3/31/1931         Bazaar, Kansas  Trans Continental and Western Air   \n3  8/31/1934     Amazonia, Missouri                Rapid Air Transport   \n4   5/6/1935      Atlanta, Missouri  Trans Continental and Western Air   \n\n  Flight #                AC Type Registration  Fatalities  \\\n0   F-AIKG           Latecoere 25       F-AIKG         2.0   \n1        7  Ford 5-AT-C Tri Motor       NC9689        16.0   \n2      599   Fokker F10A Trimotor       NC-999         8.0   \n3        6      Stinson  SM-6000B      NC11118         5.0   \n4        6       Douglas DC-2-112      NC13785         5.0   \n\n   Fatalities Passangers  Fatalities Crew  \n0                    0.0              2.0  \n1                   14.0              2.0  \n2                    6.0              2.0  \n3                    4.0              1.0  \n4                    3.0              2.0  ",
      "text/html": "<div>\n<style scoped>\n    .dataframe tbody tr th:only-of-type {\n        vertical-align: middle;\n    }\n\n    .dataframe tbody tr th {\n        vertical-align: top;\n    }\n\n    .dataframe thead th {\n        text-align: right;\n    }\n</style>\n<table border=\"1\" class=\"dataframe\">\n  <thead>\n    <tr style=\"text-align: right;\">\n      <th></th>\n      <th>Date</th>\n      <th>Location</th>\n      <th>Operator</th>\n      <th>Flight #</th>\n      <th>AC Type</th>\n      <th>Registration</th>\n      <th>Fatalities</th>\n      <th>Fatalities Passangers</th>\n      <th>Fatalities Crew</th>\n    </tr>\n  </thead>\n  <tbody>\n    <tr>\n      <th>0</th>\n      <td>1/16/1928</td>\n      <td>Solis, Uruguay</td>\n      <td>Aeropostale</td>\n      <td>F-AIKG</td>\n      <td>Latecoere 25</td>\n      <td>F-AIKG</td>\n      <td>2.0</td>\n      <td>0.0</td>\n      <td>2.0</td>\n    </tr>\n    <tr>\n      <th>1</th>\n      <td>1/19/1930</td>\n      <td>Oceanside, California</td>\n      <td>Maddux Airlines</td>\n      <td>7</td>\n      <td>Ford 5-AT-C Tri Motor</td>\n      <td>NC9689</td>\n      <td>16.0</td>\n      <td>14.0</td>\n      <td>2.0</td>\n    </tr>\n    <tr>\n      <th>2</th>\n      <td>3/31/1931</td>\n      <td>Bazaar, Kansas</td>\n      <td>Trans Continental and Western Air</td>\n      <td>599</td>\n      <td>Fokker F10A Trimotor</td>\n      <td>NC-999</td>\n      <td>8.0</td>\n      <td>6.0</td>\n      <td>2.0</td>\n    </tr>\n    <tr>\n      <th>3</th>\n      <td>8/31/1934</td>\n      <td>Amazonia, Missouri</td>\n      <td>Rapid Air Transport</td>\n      <td>6</td>\n      <td>Stinson  SM-6000B</td>\n      <td>NC11118</td>\n      <td>5.0</td>\n      <td>4.0</td>\n      <td>1.0</td>\n    </tr>\n    <tr>\n      <th>4</th>\n      <td>5/6/1935</td>\n      <td>Atlanta, Missouri</td>\n      <td>Trans Continental and Western Air</td>\n      <td>6</td>\n      <td>Douglas DC-2-112</td>\n      <td>NC13785</td>\n      <td>5.0</td>\n      <td>3.0</td>\n      <td>2.0</td>\n    </tr>\n  </tbody>\n</table>\n</div>"
     },
     "execution_count": 6,
     "metadata": {},
     "output_type": "execute_result"
    }
   ],
   "source": [
    "df_cleaned.head()"
   ],
   "metadata": {
    "collapsed": false,
    "ExecuteTime": {
     "end_time": "2024-01-04T22:03:19.626857200Z",
     "start_time": "2024-01-04T22:03:19.377771700Z"
    }
   },
   "id": "f0232a2a361cef48",
   "execution_count": 6
  },
  {
   "cell_type": "code",
   "outputs": [],
   "source": [
    "# Data Preprocessing\n",
    "\n",
    "# Convert 'Date' column to datetime\n",
    "df_cleaned['Date'] = pd.to_datetime(df_cleaned['Date'], errors='coerce')\n",
    "\n",
    "# Create new features\n",
    "df_cleaned['Year'] = df_cleaned['Date'].dt.year\n",
    "df_cleaned['Month'] = df_cleaned['Date'].dt.month\n",
    "df_cleaned['Day'] = df_cleaned['Date'].dt.day"
   ],
   "metadata": {
    "collapsed": false,
    "ExecuteTime": {
     "end_time": "2024-01-04T22:04:50.214580800Z",
     "start_time": "2024-01-04T22:04:49.855766200Z"
    }
   },
   "id": "dfb38fc4a28e3312",
   "execution_count": 8
  },
  {
   "cell_type": "code",
   "outputs": [
    {
     "name": "stdout",
     "output_type": "stream",
     "text": [
      "\n",
      "Dataset with New Features:\n"
     ]
    },
    {
     "data": {
      "text/plain": "        Date               Location                           Operator  \\\n0 1928-01-16         Solis, Uruguay                        Aeropostale   \n1 1930-01-19  Oceanside, California                    Maddux Airlines   \n2 1931-03-31         Bazaar, Kansas  Trans Continental and Western Air   \n3 1934-08-31     Amazonia, Missouri                Rapid Air Transport   \n4 1935-05-06      Atlanta, Missouri  Trans Continental and Western Air   \n\n  Flight #                AC Type Registration  Fatalities  \\\n0   F-AIKG           Latecoere 25       F-AIKG         2.0   \n1        7  Ford 5-AT-C Tri Motor       NC9689        16.0   \n2      599   Fokker F10A Trimotor       NC-999         8.0   \n3        6      Stinson  SM-6000B      NC11118         5.0   \n4        6       Douglas DC-2-112      NC13785         5.0   \n\n   Fatalities Passangers  Fatalities Crew  Year  Month  Day  \n0                    0.0              2.0  1928      1   16  \n1                   14.0              2.0  1930      1   19  \n2                    6.0              2.0  1931      3   31  \n3                    4.0              1.0  1934      8   31  \n4                    3.0              2.0  1935      5    6  ",
      "text/html": "<div>\n<style scoped>\n    .dataframe tbody tr th:only-of-type {\n        vertical-align: middle;\n    }\n\n    .dataframe tbody tr th {\n        vertical-align: top;\n    }\n\n    .dataframe thead th {\n        text-align: right;\n    }\n</style>\n<table border=\"1\" class=\"dataframe\">\n  <thead>\n    <tr style=\"text-align: right;\">\n      <th></th>\n      <th>Date</th>\n      <th>Location</th>\n      <th>Operator</th>\n      <th>Flight #</th>\n      <th>AC Type</th>\n      <th>Registration</th>\n      <th>Fatalities</th>\n      <th>Fatalities Passangers</th>\n      <th>Fatalities Crew</th>\n      <th>Year</th>\n      <th>Month</th>\n      <th>Day</th>\n    </tr>\n  </thead>\n  <tbody>\n    <tr>\n      <th>0</th>\n      <td>1928-01-16</td>\n      <td>Solis, Uruguay</td>\n      <td>Aeropostale</td>\n      <td>F-AIKG</td>\n      <td>Latecoere 25</td>\n      <td>F-AIKG</td>\n      <td>2.0</td>\n      <td>0.0</td>\n      <td>2.0</td>\n      <td>1928</td>\n      <td>1</td>\n      <td>16</td>\n    </tr>\n    <tr>\n      <th>1</th>\n      <td>1930-01-19</td>\n      <td>Oceanside, California</td>\n      <td>Maddux Airlines</td>\n      <td>7</td>\n      <td>Ford 5-AT-C Tri Motor</td>\n      <td>NC9689</td>\n      <td>16.0</td>\n      <td>14.0</td>\n      <td>2.0</td>\n      <td>1930</td>\n      <td>1</td>\n      <td>19</td>\n    </tr>\n    <tr>\n      <th>2</th>\n      <td>1931-03-31</td>\n      <td>Bazaar, Kansas</td>\n      <td>Trans Continental and Western Air</td>\n      <td>599</td>\n      <td>Fokker F10A Trimotor</td>\n      <td>NC-999</td>\n      <td>8.0</td>\n      <td>6.0</td>\n      <td>2.0</td>\n      <td>1931</td>\n      <td>3</td>\n      <td>31</td>\n    </tr>\n    <tr>\n      <th>3</th>\n      <td>1934-08-31</td>\n      <td>Amazonia, Missouri</td>\n      <td>Rapid Air Transport</td>\n      <td>6</td>\n      <td>Stinson  SM-6000B</td>\n      <td>NC11118</td>\n      <td>5.0</td>\n      <td>4.0</td>\n      <td>1.0</td>\n      <td>1934</td>\n      <td>8</td>\n      <td>31</td>\n    </tr>\n    <tr>\n      <th>4</th>\n      <td>1935-05-06</td>\n      <td>Atlanta, Missouri</td>\n      <td>Trans Continental and Western Air</td>\n      <td>6</td>\n      <td>Douglas DC-2-112</td>\n      <td>NC13785</td>\n      <td>5.0</td>\n      <td>3.0</td>\n      <td>2.0</td>\n      <td>1935</td>\n      <td>5</td>\n      <td>6</td>\n    </tr>\n  </tbody>\n</table>\n</div>"
     },
     "execution_count": 9,
     "metadata": {},
     "output_type": "execute_result"
    }
   ],
   "source": [
    "# Display the dataset with new features\n",
    "print(\"\\nDataset with New Features:\")\n",
    "df_cleaned.head()"
   ],
   "metadata": {
    "collapsed": false,
    "ExecuteTime": {
     "end_time": "2024-01-04T22:05:23.088717900Z",
     "start_time": "2024-01-04T22:05:23.049733300Z"
    }
   },
   "id": "ff6dd1e60ed2bba3",
   "execution_count": 9
  },
  {
   "cell_type": "code",
   "outputs": [
    {
     "name": "stdout",
     "output_type": "stream",
     "text": [
      "\n",
      "Dataset with One-Hot Encoded Categorical Variables:\n",
      "        Date Flight # Registration  Fatalities  Fatalities Passangers  \\\n",
      "0 1928-01-16   F-AIKG       F-AIKG         2.0                    0.0   \n",
      "1 1930-01-19        7       NC9689        16.0                   14.0   \n",
      "2 1931-03-31      599       NC-999         8.0                    6.0   \n",
      "3 1934-08-31        6      NC11118         5.0                    4.0   \n",
      "4 1935-05-06        6      NC13785         5.0                    3.0   \n",
      "\n",
      "   Fatalities Crew  Year  Month  Day  Location_\\tPreobrazhenka, Ukraine  ...  \\\n",
      "0              2.0  1928      1   16                              False  ...   \n",
      "1              2.0  1930      1   19                              False  ...   \n",
      "2              2.0  1931      3   31                              False  ...   \n",
      "3              1.0  1934      8   31                              False  ...   \n",
      "4              2.0  1935      5    6                              False  ...   \n",
      "\n",
      "   AC Type_de Havilland DH-114 Heron  AC Type_de Havilland DH-114 Heron 2  \\\n",
      "0                              False                                False   \n",
      "1                              False                                False   \n",
      "2                              False                                False   \n",
      "3                              False                                False   \n",
      "4                              False                                False   \n",
      "\n",
      "   AC Type_de Havilland DH-114 Heron 2B  AC Type_de Havilland DH106 Comet 1  \\\n",
      "0                                 False                               False   \n",
      "1                                 False                               False   \n",
      "2                                 False                               False   \n",
      "3                                 False                               False   \n",
      "4                                 False                               False   \n",
      "\n",
      "   AC Type_de Havilland DHC -6-100  AC Type_de Havilland DHC-6 Twin Otter  \\\n",
      "0                            False                                  False   \n",
      "1                            False                                  False   \n",
      "2                            False                                  False   \n",
      "3                            False                                  False   \n",
      "4                            False                                  False   \n",
      "\n",
      "   AC Type_de Havilland DHC-6 Twin Otter 300  \\\n",
      "0                                      False   \n",
      "1                                      False   \n",
      "2                                      False   \n",
      "3                                      False   \n",
      "4                                      False   \n",
      "\n",
      "   AC Type_de Havilland DHC-6 Twin Otter 400  AC Type_de Havilland DHC-6-200  \\\n",
      "0                                      False                           False   \n",
      "1                                      False                           False   \n",
      "2                                      False                           False   \n",
      "3                                      False                           False   \n",
      "4                                      False                           False   \n",
      "\n",
      "   AC Type_de Havilland Dash-2 Beaver  \n",
      "0                               False  \n",
      "1                               False  \n",
      "2                               False  \n",
      "3                               False  \n",
      "4                               False  \n",
      "\n",
      "[5 rows x 2642 columns]\n"
     ]
    }
   ],
   "source": [
    "# Convert Categorical Data using One-Hot Encoding\n",
    "df_encoded = pd.get_dummies(df_cleaned, columns=['Location', 'Operator', 'AC Type'], drop_first=True)\n",
    "\n",
    "# Display the dataset with one-hot encoded categorical variables\n",
    "print(\"\\nDataset with One-Hot Encoded Categorical Variables:\")\n",
    "print(df_encoded.head())"
   ],
   "metadata": {
    "collapsed": false,
    "ExecuteTime": {
     "end_time": "2024-01-04T22:10:56.698368500Z",
     "start_time": "2024-01-04T22:10:56.318862100Z"
    }
   },
   "id": "734165920d03db50",
   "execution_count": 11
  },
  {
   "cell_type": "code",
   "outputs": [
    {
     "name": "stdout",
     "output_type": "stream",
     "text": [
      "Dataset with new features saved to: cleaned_acf.csv\n"
     ]
    }
   ],
   "source": [
    "# Save the dataset with new features\n",
    "preprocessed_file_path = \"cleaned_acf.csv\"\n",
    "df_encoded.to_csv(preprocessed_file_path, index=False)\n",
    "\n",
    "print(f\"Dataset with new features saved to: {preprocessed_file_path}\")"
   ],
   "metadata": {
    "collapsed": false,
    "ExecuteTime": {
     "end_time": "2024-01-04T22:12:51.524117800Z",
     "start_time": "2024-01-04T22:12:48.812592600Z"
    }
   },
   "id": "fe4832ff84d43a9a",
   "execution_count": 12
  }
 ],
 "metadata": {
  "kernelspec": {
   "display_name": "Python 3",
   "language": "python",
   "name": "python3"
  },
  "language_info": {
   "codemirror_mode": {
    "name": "ipython",
    "version": 2
   },
   "file_extension": ".py",
   "mimetype": "text/x-python",
   "name": "python",
   "nbconvert_exporter": "python",
   "pygments_lexer": "ipython2",
   "version": "2.7.6"
  }
 },
 "nbformat": 4,
 "nbformat_minor": 5
}
